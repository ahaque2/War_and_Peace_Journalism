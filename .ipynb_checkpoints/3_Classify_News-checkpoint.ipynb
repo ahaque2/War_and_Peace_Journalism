{
 "cells": [
  {
   "cell_type": "markdown",
   "id": "62b465ec-37ba-409b-a7e0-2aa5d86863a2",
   "metadata": {
    "tags": []
   },
   "source": [
    "### Code to compute war and peace frame scores and victim and villain socres for news headlines"
   ]
  },
  {
   "cell_type": "code",
   "execution_count": null,
   "id": "03bfbce5-c2f2-40c1-bcfc-3980d6424b7c",
   "metadata": {
    "tags": []
   },
   "outputs": [],
   "source": [
    "### Make sure to specify the path to the trained model (model can be trained using 1_Benchmark_dataset)"
   ]
  },
  {
   "cell_type": "code",
   "execution_count": null,
   "id": "f31dcc66-2aa5-4288-b900-3abab7e1d294",
   "metadata": {
    "tags": []
   },
   "outputs": [],
   "source": [
    "import pandas as pd\n",
    "import numpy as np\n",
    "import sys\n",
    "import torch\n",
    "\n",
    "from sklearn.model_selection import train_test_split\n",
    "from transformers import BertModel, BertTokenizer\n",
    "from transformers import AutoModel, AutoTokenizer, AutoModelForMaskedLM, AutoModelForSequenceClassification, ModernBertModel\n",
    "\n",
    "from transformers import get_scheduler\n",
    "\n",
    "import torch.nn as nn\n",
    "from torch.optim import AdamW\n",
    "\n",
    "from torch.utils.data import TensorDataset, DataLoader, RandomSampler\n",
    "from sklearn.metrics import f1_score\n",
    "from tqdm.auto import tqdm\n",
    "import torch.nn.functional as F\n",
    "\n",
    "pd.set_option('display.max_colwidth', None)"
   ]
  },
  {
   "cell_type": "code",
   "execution_count": null,
   "id": "849400de-6337-48df-bcae-cb2e7708f4da",
   "metadata": {
    "tags": []
   },
   "outputs": [],
   "source": [
    "data = pd.read_csv('data/GazaNews.csv')"
   ]
  },
  {
   "cell_type": "code",
   "execution_count": null,
   "id": "7a68c753-fc44-496f-9730-8cf1e3acc189",
   "metadata": {
    "tags": []
   },
   "outputs": [],
   "source": [
    "# data.columns"
   ]
  },
  {
   "cell_type": "code",
   "execution_count": null,
   "id": "d1f1ffb0-08de-470f-95e9-d181fdf50a76",
   "metadata": {
    "tags": []
   },
   "outputs": [],
   "source": [
    "class LanguageModel(nn.Module):\n",
    "    \n",
    "    def __init__(self, attr, siamese_training, num_classes = 2):\n",
    "        \n",
    "        super(LanguageModel, self).__init__()\n",
    "        torch.manual_seed(0)\n",
    "        self.model = AutoModel.from_pretrained(model_name, output_hidden_states = True, output_attentions = True)\n",
    "        \n",
    "        self.dropout = nn.Dropout(p = 0.15)\n",
    "        self.classifier = nn.Linear(self.model.config.hidden_size, num_classes)\n",
    "        \n",
    "    def forward(self, input_ids, attention_masks):\n",
    "        \n",
    "        # x = self.model(input_ids = input_ids, attention_mask = attention_masks).last_hidden_state.mean(dim=1)\n",
    "        emb = self.model(input_ids = input_ids, attention_mask = attention_masks)\n",
    "        \n",
    "        emb = emb.last_hidden_state[:, 0, :]\n",
    "    \n",
    "        x = self.dropout(emb)\n",
    "        x = self.classifier(x)\n",
    "        \n",
    "        return x\n",
    "    "
   ]
  },
  {
   "cell_type": "code",
   "execution_count": null,
   "id": "b74cf6d2-fc34-44eb-9678-9186b7ff7e86",
   "metadata": {
    "tags": []
   },
   "outputs": [],
   "source": [
    "label = 'emotive'\n",
    "### Specify the location of the trained model\n",
    "model = torch.load(f'models/benchmark/roberta-base/Label_{label}.pth')"
   ]
  },
  {
   "cell_type": "code",
   "execution_count": null,
   "id": "b3269747-5bb2-4024-89a4-696b450fa7ae",
   "metadata": {
    "tags": []
   },
   "outputs": [],
   "source": [
    "model_name = 'roberta-base'\n",
    "# model = AutoModel.from_pretrained(model_name)\n",
    "tokenizer = AutoTokenizer.from_pretrained(model_name)\n",
    "\n",
    "device = torch.device('cuda:0')\n",
    "model.to(device)\n",
    "'Model Loaded!'"
   ]
  },
  {
   "cell_type": "code",
   "execution_count": null,
   "id": "f53e7964-6dc7-48fd-b34f-8a1108b1d1bc",
   "metadata": {
    "tags": []
   },
   "outputs": [],
   "source": [
    "def get_dataset(sent):\n",
    "    \n",
    "    # sent = mask_entities(sent)\n",
    "    \n",
    "    tokens = tokenizer(sent, return_tensors=\"pt\", padding=True, truncation=True)\n",
    "    # tokens = tokenizer(sent, return_tensors=\"pt\", padding='max_length', truncation=True)\n",
    "    data = TensorDataset(tokens['input_ids'], tokens['attention_mask'])\n",
    "\n",
    "    return DataLoader(data, batch_size = 32)\n",
    "\n",
    "def get_label(dataloader):\n",
    "    \n",
    "    pred_labels = []\n",
    "    logits = []\n",
    "    logit = None\n",
    "    for batch in dataloader:\n",
    "        \n",
    "        input_ids, attention_mask = [x.to(device) for x in batch]\n",
    "        \n",
    "        with torch.no_grad():\n",
    "            logit = model(input_ids, attention_mask)\n",
    "            \n",
    "        preds = torch.argmax(logit, dim=-1)\n",
    "        logits.extend(logit.detach().cpu().numpy())\n",
    "        # print(preds)\n",
    "        # sys.exit()\n",
    "        pred_labels.extend(preds.detach().cpu().numpy())\n",
    "    \n",
    "    return logits, pred_labels"
   ]
  },
  {
   "cell_type": "code",
   "execution_count": null,
   "id": "a7664ed7-e4d5-4130-8bac-0f9b1ee99b5b",
   "metadata": {
    "tags": []
   },
   "outputs": [],
   "source": [
    "import pandas as pd\n",
    "import spacy\n",
    "\n",
    "nlp = spacy.load(\"en_core_web_sm\")\n",
    "\n",
    "def mask_entities(sentences: pd.Series) -> pd.Series:\n",
    "    def mask(sentence):\n",
    "        doc = nlp(sentence)\n",
    "        masked = sentence\n",
    "        for ent in doc.ents:\n",
    "            masked = masked.replace(ent.text, \"<mask>\")\n",
    "        return masked\n",
    "    return sentences.apply(mask)\n",
    "\n",
    "# def get_data(attr):\n",
    "    \n",
    "#     df = pd.read_csv(f'../../../../dataset/dataset_per_class/Label_{attr}.csv')\n",
    "#     # print(df.columns)\n",
    "    \n",
    "#     df['headline'] = mask_entities(df['headline'])\n",
    "    \n",
    "#     return df\n",
    "\n",
    "# df = get_data('1')\n",
    "\n",
    "headlines = mask_entities(data.headline)\n",
    "\n",
    "train_dataloader = get_dataset(headlines.tolist())"
   ]
  },
  {
   "cell_type": "code",
   "execution_count": null,
   "id": "3d8be947-8a05-4f4f-bb20-e0ca9244c60f",
   "metadata": {
    "tags": []
   },
   "outputs": [],
   "source": [
    "# def get_data(attr):\n",
    "    \n",
    "#     df = pd.read_csv(f'../../../../dataset/dataset_per_class/Label_{attr}.csv')\n",
    "#     df['headline'] = mask_entities(df['headline'])\n",
    "    \n",
    "#     return df"
   ]
  },
  {
   "cell_type": "code",
   "execution_count": null,
   "id": "bc9d65e3-9c2c-4ed8-b750-ab7e1df24cda",
   "metadata": {
    "tags": []
   },
   "outputs": [],
   "source": [
    "pred_scores, _ = get_label(train_dataloader)"
   ]
  },
  {
   "cell_type": "code",
   "execution_count": null,
   "id": "36d9ba7f-3ed4-4254-8f16-c448bc6850ac",
   "metadata": {
    "tags": []
   },
   "outputs": [],
   "source": [
    "softmax_scores = F.softmax(torch.tensor(pred_scores), dim=-1)"
   ]
  },
  {
   "cell_type": "code",
   "execution_count": null,
   "id": "a3bfd954-748e-497d-9c46-a5526adb24f1",
   "metadata": {
    "tags": []
   },
   "outputs": [],
   "source": [
    "softmax_scores_ = softmax_scores.numpy()"
   ]
  },
  {
   "cell_type": "code",
   "execution_count": null,
   "id": "32c1a8f6-75b6-4534-98ed-b580087b85a5",
   "metadata": {
    "tags": []
   },
   "outputs": [],
   "source": [
    "df.columns"
   ]
  },
  {
   "cell_type": "code",
   "execution_count": null,
   "id": "e12e5805-3c5d-4aa8-acf4-0ea4e7d3e357",
   "metadata": {
    "tags": []
   },
   "outputs": [],
   "source": [
    "def get_data(attr):\n",
    "    \n",
    "    df = pd.read_csv(f'data/Label_{attr}.csv')\n",
    "    \n",
    "    return df\n",
    "\n",
    "# attr = '4c'\n",
    "df = get_data(label)\n",
    "\n",
    "class_mapping = dict({'emotive':'1', 'effects': '4a', 'source': '4b', 'context': '4c', 'villain': '3a', 'victim': '3b'})\n",
    "lab = class_mapping[label]\n",
    "\n",
    "mapping = dict(zip(df['label'], df[f'Label_{lab}']))\n",
    "# data[f'Label_{attr}'] = data[f'Lab_{label}'].replace(mapping)\n",
    "cols = ['score_' + str(l[1]) for l in sorted(mapping.items(), key = lambda x: x[0])]"
   ]
  },
  {
   "cell_type": "code",
   "execution_count": null,
   "id": "e9b84be1-fe53-4088-84fe-bf47f183364b",
   "metadata": {
    "tags": []
   },
   "outputs": [],
   "source": [
    "softmax_scores_df = pd.DataFrame(softmax_scores_, columns = cols)"
   ]
  },
  {
   "cell_type": "code",
   "execution_count": null,
   "id": "dbcbf0cb-272c-42e1-bafd-288317aa6768",
   "metadata": {
    "tags": []
   },
   "outputs": [],
   "source": [
    "pd.concat((data[['id', 'indexed_date', 'language',\n",
    "        'media_name', 'media_url', 'publish_date', 'headline', 'url', 'labels',\n",
    "        'entity_labels', 'lab', 'entities', 'lang', 'pal_ent', 'hamas_ent',\n",
    "        'isr_ent', 'other_ent', 'date', f'Lab_{label}', \n",
    "       f'Label_{label}']], softmax_scores_df), axis = 1).to_csv(f'results/news_analysis/Label_{label}.csv')"
   ]
  },
  {
   "cell_type": "code",
   "execution_count": null,
   "id": "0b085b01-73a8-4653-b51d-c1f93276c534",
   "metadata": {
    "tags": []
   },
   "outputs": [],
   "source": [
    "data.shape, data.columns"
   ]
  },
  {
   "cell_type": "code",
   "execution_count": null,
   "id": "d491da89-c874-4ea5-bf6d-d6920f447f36",
   "metadata": {
    "tags": []
   },
   "outputs": [],
   "source": [
    "# pred_labels_ = torch.argmax(softmax_scores, dim=-1)"
   ]
  },
  {
   "cell_type": "code",
   "execution_count": null,
   "id": "f3cc66e0-8c27-46b9-94de-dd91ce8b8027",
   "metadata": {
    "tags": []
   },
   "outputs": [],
   "source": [
    "# data[f'Lab_{label}'] = predictions"
   ]
  },
  {
   "cell_type": "code",
   "execution_count": null,
   "id": "6cf93000-d3f6-41ae-8b1b-f13fad23f47f",
   "metadata": {
    "tags": []
   },
   "outputs": [],
   "source": [
    "# data[data['Lab_2a'] == 1]"
   ]
  },
  {
   "cell_type": "code",
   "execution_count": null,
   "id": "2be29a1c-dd41-49a4-b57c-7c62e8ceace5",
   "metadata": {},
   "outputs": [],
   "source": [
    "data.columns"
   ]
  },
  {
   "cell_type": "code",
   "execution_count": null,
   "id": "20c28421-44a3-4226-a380-0869a109c30f",
   "metadata": {
    "tags": []
   },
   "outputs": [],
   "source": [
    "# data.to_csv('../ASP/github_code/data/GazaNews_war_and_peace.csv')"
   ]
  }
 ],
 "metadata": {
  "kernelspec": {
   "display_name": "py3_10",
   "language": "python",
   "name": "py3_10"
  },
  "language_info": {
   "codemirror_mode": {
    "name": "ipython",
    "version": 3
   },
   "file_extension": ".py",
   "mimetype": "text/x-python",
   "name": "python",
   "nbconvert_exporter": "python",
   "pygments_lexer": "ipython3",
   "version": "3.10.12"
  }
 },
 "nbformat": 4,
 "nbformat_minor": 5
}
