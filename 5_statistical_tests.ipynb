{
 "cells": [
  {
   "cell_type": "markdown",
   "id": "ec766139-99c2-491f-a0f2-2f8bfeb0a4e9",
   "metadata": {
    "tags": []
   },
   "source": [
    "### Code for statistical tests comparing news coverage across news publishers"
   ]
  },
  {
   "cell_type": "code",
   "execution_count": 2,
   "id": "ff2255a0-8240-4128-85d7-1f7e31aef964",
   "metadata": {
    "tags": []
   },
   "outputs": [],
   "source": [
    "### To run for different classes, some modifications may be needed. Modifications are commented out, use depending on the class you are evaluating. \n",
    "### The changes are needed different classes have different label names and file names. "
   ]
  },
  {
   "cell_type": "code",
   "execution_count": null,
   "id": "07e6487a-be32-4ea1-8a75-fa8fe4dce57d",
   "metadata": {},
   "outputs": [],
   "source": [
    "import pandas as pd\n",
    "import numpy as np\n",
    "import sys\n",
    "\n",
    "from scipy import stats\n",
    "from scipy.stats import ttest_ind\n",
    "import pingouin as pg\n",
    "\n",
    "pd.set_option('display.max_colwidth', None)"
   ]
  },
  {
   "cell_type": "code",
   "execution_count": 1083,
   "id": "603f976d-5c9e-4a3a-bd2d-fc950f08c2ae",
   "metadata": {
    "tags": []
   },
   "outputs": [],
   "source": [
    "# data = pd.read_csv('../results/GazaNews_with_moral_scores.csv')\n",
    "label = 'villain'\n",
    "data = pd.read_csv(f'results/news_analysis/Label_{label}.csv')\n",
    "# data_villain = pd.read_csv('results/news_analysis/Label_3a.csv')\n",
    "# data_victim = pd.read_csv('results/news_analysis/Label_3b.csv')\n",
    "# data_mft = pd.read_csv('../ASP/github_code/results/GazaNews_with_moral_scores.csv')"
   ]
  },
  {
   "cell_type": "code",
   "execution_count": 1084,
   "id": "67bc34b9-9fae-496d-8b5c-bd061414e0ae",
   "metadata": {
    "tags": []
   },
   "outputs": [
    {
     "name": "stderr",
     "output_type": "stream",
     "text": [
      "/tmp/ipykernel_2224105/138197406.py:2: FutureWarning: The default value of regex will change from True to False in a future version.\n",
      "  data['media'] = data.media_name.str.replace('aljazeera.com', 'alj').str.replace('foxnews.com', 'fox').str.replace('bbc.com', 'bbc').str.replace('bbc.co.uk', 'bbc')\n"
     ]
    },
    {
     "data": {
      "text/plain": [
       "alj    4321\n",
       "fox    3114\n",
       "bbc    2221\n",
       "Name: media, dtype: int64"
      ]
     },
     "execution_count": 1084,
     "metadata": {},
     "output_type": "execute_result"
    }
   ],
   "source": [
    "data['date'] = pd.to_datetime(data['publish_date'], format='%Y-%m-%d')\n",
    "data['media'] = data.media_name.str.replace('aljazeera.com', 'alj').str.replace('foxnews.com', 'fox').str.replace('bbc.com', 'bbc').str.replace('bbc.co.uk', 'bbc')\n",
    "data.media.value_counts()"
   ]
  },
  {
   "cell_type": "code",
   "execution_count": 1085,
   "id": "ed219668-3c96-40fb-a8de-1b5219e1db6c",
   "metadata": {
    "tags": []
   },
   "outputs": [
    {
     "data": {
      "text/plain": [
       "(Index(['Unnamed: 0', 'id', 'indexed_date', 'language', 'media_name',\n",
       "        'media_url', 'publish_date', 'headline', 'url', 'labels',\n",
       "        'entity_labels', 'lab', 'entities', 'lang', 'pal_ent', 'hamas_ent',\n",
       "        'isr_ent', 'other_ent', 'date', 'Lab_3b', 'Label_3b', 'score_Hamas',\n",
       "        'score_Israel', 'score_None', 'score_Palestine', 'media'],\n",
       "       dtype='object'),\n",
       " (9656, 26))"
      ]
     },
     "execution_count": 1085,
     "metadata": {},
     "output_type": "execute_result"
    }
   ],
   "source": [
    "data.columns, data.shape"
   ]
  },
  {
   "cell_type": "code",
   "execution_count": 1086,
   "id": "b1df8876-435b-43c8-adcf-575739ec3f2e",
   "metadata": {
    "tags": []
   },
   "outputs": [],
   "source": [
    "# data = data.rename(columns = {'score_IE': 'temp'}).rename(columns = {'score_VE': 'score_IE'}).rename(columns = {'temp': 'score_VE'})"
   ]
  },
  {
   "cell_type": "code",
   "execution_count": 1087,
   "id": "3deab07b-7735-472b-abe2-a4376e3e0f82",
   "metadata": {
    "tags": []
   },
   "outputs": [],
   "source": [
    "# data[['score_BC', 'score_WC']] = data[['score_BC', 'score_WC']].div(data[['score_BC', 'score_WC']].sum(axis=1), axis=0)\n",
    "# data[['score_ES', 'score_PS']] = data[['score_ES', 'score_PS']].div(data[['score_ES', 'score_PS']].sum(axis=1), axis=0)\n",
    "# data[['score_IE', 'score_VE']] = data[['score_IE', 'score_VE']].div(data[['score_IE', 'score_VE']].sum(axis=1), axis=0)"
   ]
  },
  {
   "cell_type": "code",
   "execution_count": 1088,
   "id": "14a096a5-7834-4fa2-a155-59ce58594172",
   "metadata": {
    "tags": []
   },
   "outputs": [
    {
     "data": {
      "image/png": "[encoded data removed]",
      "text/plain": [
       "<Figure size 640x480 with 1 Axes>"
      ]
     },
     "metadata": {},
     "output_type": "display_data"
    }
   ],
   "source": [
    "import seaborn as sns\n",
    "import matplotlib.pyplot as plt\n",
    "\n",
    "# Example DataFrame\n",
    "import pandas as pd\n",
    "import numpy as np\n",
    "\n",
    "attr = 'score_Hamas'\n",
    "sns.histplot(data[attr], kde=True)\n",
    "# sns.histplot(alj.score_Israel, kde=True)\n",
    "# alj.score_Israel\n",
    "plt.show()"
   ]
  },
  {
   "cell_type": "code",
   "execution_count": 1089,
   "id": "88d79009-b4b9-4bac-b698-882a47a4a703",
   "metadata": {
    "tags": []
   },
   "outputs": [],
   "source": [
    "# alj = israel_entity_mentioned_df[israel_entity_mentioned_df.media == 'alj']\n",
    "# bbc = israel_entity_mentioned_df[israel_entity_mentioned_df.media == 'bbc']\n",
    "# fox = israel_entity_mentioned_df[israel_entity_mentioned_df.media == 'fox']"
   ]
  },
  {
   "cell_type": "code",
   "execution_count": null,
   "id": "a9861c53-3230-4122-ab52-0ec143796803",
   "metadata": {},
   "outputs": [],
   "source": []
  },
  {
   "cell_type": "code",
   "execution_count": 1090,
   "id": "12ed4e97-b679-4933-b900-b4666520dd39",
   "metadata": {
    "tags": []
   },
   "outputs": [],
   "source": [
    "no_entity_mentioned_df = data[data[['pal_ent', 'hamas_ent', 'isr_ent', 'other_ent']].eq(False).all(axis = 1)]\n",
    "pal_entity_mentioned_df = data[((data.pal_ent == True) & (data.hamas_ent == False) & (data.isr_ent == False) & (data.other_ent == False))]\n",
    "hamas_entity_mentioned_df = data[((data.pal_ent == False) & (data.hamas_ent == True) & (data.isr_ent == False) & (data.other_ent == False))]\n",
    "israel_entity_mentioned_df = data[((data.pal_ent == False) & (data.hamas_ent == False) & (data.isr_ent == True) & (data.other_ent == False))]\n",
    "other_entity_mentioned_df = data[((data.pal_ent == False) & (data.hamas_ent == False) & (data.isr_ent == False) & (data.other_ent == True))]\n",
    "other_entity_mentioned_df = pd.concat((no_entity_mentioned_df, other_entity_mentioned_df), axis = 0)"
   ]
  },
  {
   "cell_type": "code",
   "execution_count": 1091,
   "id": "db09d345-084c-4fc4-a349-7a4722d39179",
   "metadata": {},
   "outputs": [
    {
     "data": {
      "text/plain": [
       "((586, 26), (517, 26), (2725, 26), (1449, 26))"
      ]
     },
     "execution_count": 1091,
     "metadata": {},
     "output_type": "execute_result"
    }
   ],
   "source": [
    "pal_entity_mentioned_df.shape, hamas_entity_mentioned_df.shape, israel_entity_mentioned_df.shape, other_entity_mentioned_df.shape"
   ]
  },
  {
   "cell_type": "code",
   "execution_count": 1092,
   "id": "8450195f-c589-471a-8b32-5391518bc408",
   "metadata": {
    "tags": []
   },
   "outputs": [],
   "source": [
    "# grouped_mean = israel_entity_mentioned_df.groupby('media')['score_BC'].mean()\n",
    "# alj, bbc, fox = grouped_mean['alj'], grouped_mean['bbc'], grouped_mean['fox']"
   ]
  },
  {
   "cell_type": "code",
   "execution_count": 1093,
   "id": "6e3ad6ed-c24d-49fa-accf-53e48867d2a8",
   "metadata": {
    "tags": []
   },
   "outputs": [],
   "source": [
    "def check_normality(df, attr):\n",
    "    \n",
    "    alj = df[df.media == 'alj'][attr]\n",
    "    bbc = df[df.media == 'bbc'][attr]\n",
    "    fox = df[df.media == 'fox'][attr]\n",
    "    \n",
    "    shapiro = []\n",
    "    \n",
    "    for dist in [alj, bbc, fox]:\n",
    "        p_val_shapiro = stats.shapiro(dist)[1]\n",
    "        shapiro.append(p_val_shapiro)\n",
    "    return shapiro\n",
    "\n",
    "def get_shapiro_normality(df):\n",
    "\n",
    "    shapiro_p = []\n",
    "    \n",
    "    # for attr in ['score_BC', 'score_WC', 'score_None']:\n",
    "    # for attr in ['score_ES', 'score_PS', 'score_None']:\n",
    "    # for attr in ['score_IE', 'score_VE', 'score_None']:\n",
    "    for attr in ['score_Hamas', 'score_Israel', 'score_None', 'score_Palestine']:\n",
    "    # for attr in ['score_O', 'score_S']:\n",
    "        # attr = 'cr_norm_' + attr + '_sent'\n",
    "        shap_p_val = check_normality(df, attr)\n",
    "        shapiro_p.append(shap_p_val)\n",
    "        \n",
    "    return shapiro_p"
   ]
  },
  {
   "cell_type": "code",
   "execution_count": 1094,
   "id": "1c8b7bb4-bccc-4e0b-bf67-e306c9ee97c6",
   "metadata": {
    "tags": []
   },
   "outputs": [
    {
     "data": {
      "text/plain": [
       "([[3.5170483901662564e-35, 4.989396541019484e-22, 1.9377151261323888e-07],\n",
       "  [2.3961352152268358e-33, 1.4146322636199118e-19, 1.038764994160113e-11],\n",
       "  [1.7071715373387377e-21, 2.0953041818955187e-13, 3.4899025336265765e-10],\n",
       "  [2.0030409006573635e-22, 1.2535331218941747e-14, 3.6057210535792342e-16]],\n",
       " [[3.4518637287689393e-19, 1.6657836846366177e-19, 2.1276165631239207e-32],\n",
       "  [3.87805639017164e-18, 9.45460970933976e-15, 1.1458497101514277e-17],\n",
       "  [9.049769614244418e-12, 4.0965791869851387e-10, 4.150238671880944e-15],\n",
       "  [1.8295206902810992e-17, 2.171521575109415e-18, 1.7157428275901503e-29]],\n",
       " [[0.0, 6.146399951201244e-35, 0.0],\n",
       "  [0.0, 7.80065627634103e-36, 5.962458331157521e-36],\n",
       "  [3.851615124756435e-38, 5.2116661926829795e-27, 3.798205812704635e-30],\n",
       "  [4.473894778483628e-39, 6.615895723956401e-34, 1.5834672646870433e-43]],\n",
       " [[7.81924543093248e-43, 2.1589734500518999e-35, 4.986157129564734e-27],\n",
       "  [4.498168070482663e-43, 2.7622885783233308e-39, 8.860984257631924e-20],\n",
       "  [2.428617304357737e-27, 2.5377622965336884e-26, 1.028148708409767e-15],\n",
       "  [1.9332405337148868e-28, 1.3195716051438168e-28, 2.6039829109106993e-24]])"
      ]
     },
     "execution_count": 1094,
     "metadata": {},
     "output_type": "execute_result"
    }
   ],
   "source": [
    "pal_shapiro_norm = get_shapiro_normality(pal_entity_mentioned_df)\n",
    "hamas_shapiro_norm = get_shapiro_normality(hamas_entity_mentioned_df)\n",
    "israel_shapiro_norm = get_shapiro_normality(israel_entity_mentioned_df)\n",
    "other_shapiro_norm = get_shapiro_normality(other_entity_mentioned_df)\n",
    "\n",
    "pal_shapiro_norm, hamas_shapiro_norm, israel_shapiro_norm, other_shapiro_norm"
   ]
  },
  {
   "cell_type": "code",
   "execution_count": 1095,
   "id": "aed89dae-ca0f-43c3-aec4-4e92265720ce",
   "metadata": {
    "tags": []
   },
   "outputs": [],
   "source": [
    "def get_statistical_results(df, attr, test_type, effect_type = 'rbc'):\n",
    "    \n",
    "    alj = df[df.media == 'alj'][attr]\n",
    "    bbc = df[df.media == 'bbc'][attr]\n",
    "    fox = df[df.media == 'fox'][attr]\n",
    "    \n",
    "    # print(alj.sum()/alj.shape[0], bbc.sum()/bbc.shape[0], fox.sum()/fox.shape[0])\n",
    "\n",
    "    p_val, effect_size, shap_p1, shap_p2, mwu_p_val, mwu_cles, mwu_rbc = [], [], [], [], [], [], []\n",
    "    for p1, p2 in [(alj, bbc), (bbc, fox), (alj, fox)]:\n",
    "        \n",
    "        # print(p1.sum()/p1.shape[0], p2.sum()/p2.shape[0])\n",
    "        \n",
    "        if test_type == 'ttest':\n",
    "            res = pg.ttest(p1, p2, paired=False)\n",
    "            p_v, effect = res['p-val'][0], res['cohen-d'][0]\n",
    "        \n",
    "        if test_type == 'mwu':\n",
    "            \n",
    "            result = pg.mwu(p1, p2)\n",
    "            p_v = result['p-val'][0]\n",
    "\n",
    "            if effect_type == 'cles':\n",
    "                effect = result['CLES'][0]\n",
    "\n",
    "            elif effect_type == 'rbc':\n",
    "                effect = result['RBC'][0]\n",
    "                \n",
    "            # print(result)\n",
    "            # sys.exit()\n",
    "     \n",
    "        p_val.append(p_v)\n",
    "        effect_size.append(effect)\n",
    "\n",
    "    return shap_p1, shap_p2, p_val, effect_size\n",
    "\n",
    "\n",
    "def get_results(df, test = 'ttest'):\n",
    "\n",
    "    shapiro_p1, shapiro_p2, p_val, effect_size = [], [], [], []\n",
    "    \n",
    "    # for attr in ['score_BC', 'score_WC', 'score_None']:\n",
    "    # for attr in ['score_ES', 'score_PS', 'score_None']:\n",
    "    # for attr in ['score_IE', 'score_VE', 'score_None']:\n",
    "    for attr in ['score_Hamas', 'score_Israel', 'score_None', 'score_Palestine']:\n",
    "    # for attr in ['score_O', 'score_S']:\n",
    "        shap_p1, shap_p2, p_v, effect = get_statistical_results(df, attr, test)\n",
    "        p_val.append(p_v)\n",
    "        effect_size.append(effect)\n",
    "        shapiro_p1.append(shap_p1)\n",
    "        shapiro_p2.append(shap_p2)\n",
    "    \n",
    "    # df_p_val = pd.DataFrame(p_val).T.rename(columns = {0:'BC_pval', 1:'WC_pval', 2:'None_pval'})\n",
    "    # df_p_val = pd.DataFrame(p_val).T.rename(columns = {0:'ES_pval', 1:'PS_pval', 2:'None_pval'})\n",
    "    # df_p_val = pd.DataFrame(p_val).T.rename(columns = {0:'IE_pval', 1:'VE_pval', 2:'None_pval'})\n",
    "    df_p_val = pd.DataFrame(p_val).T.rename(columns = {0:'Hamas_pval', 1:'Israel_pval', 2:'None_pval', 3:'Palestine_pval'})\n",
    "    # df_p_val = pd.DataFrame(p_val).T.rename(columns = {0:'O_pval', 1:'S_pval'})\n",
    "    df_p_val['media'] = ['alj-bbc', 'bbc-fox', 'alj-fox']\n",
    "\n",
    "    # df_effect = pd.DataFrame(effect_size).T.rename(columns = {0:'BC_es', 1:'WC_es', 2:'None_es'})\n",
    "    # df_effect = pd.DataFrame(effect_size).T.rename(columns = {0:'ES_es', 1:'PS_es', 2:'None_es'})\n",
    "    # df_effect = pd.DataFrame(effect_size).T.rename(columns = {0:'IE_es', 1:'VE_es', 2:'None_es'})\n",
    "    df_effect = pd.DataFrame(effect_size).T.rename(columns = {0:'Hamas_es', 1:'Israel_es', 2:'None_es', 3:'Palestine_es'})\n",
    "    # df_effect = pd.DataFrame(effect_size).T.rename(columns = {0:'O_es', 1:'S_es'})\n",
    "    \n",
    "    df_effect['media'] = ['alj-bbc', 'bbc-fox', 'alj-fox']\n",
    "\n",
    "    df_res = df_p_val.merge(df_effect, on = 'media')\n",
    "    cols = ['media'] + [col for col in df_res.columns if col != 'media']\n",
    "    df_res = df_res[cols]\n",
    "   \n",
    "    \n",
    "    return df_res"
   ]
  },
  {
   "cell_type": "code",
   "execution_count": 1096,
   "id": "aa0e0c0f-ea09-427b-809d-63b22b5ffe07",
   "metadata": {
    "tags": []
   },
   "outputs": [],
   "source": [
    "# df_res3 = get_results(hamas_entity_mentioned_df, test)"
   ]
  },
  {
   "cell_type": "code",
   "execution_count": 1097,
   "id": "1c4cca16-e0be-4819-bb95-b31c73bd3d9c",
   "metadata": {},
   "outputs": [],
   "source": [
    "test = 'mwu'    # or mwu\n",
    "\n",
    "# df_res1 = get_results(data, test)\n",
    "df_res2 = get_results(pal_entity_mentioned_df, test)\n",
    "df_res3 = get_results(hamas_entity_mentioned_df, test)\n",
    "df_res4 = get_results(israel_entity_mentioned_df, test)\n",
    "df_res5 = get_results(other_entity_mentioned_df, test)"
   ]
  },
  {
   "cell_type": "code",
   "execution_count": 1098,
   "id": "5750bd0b-8d6a-4bee-a9e2-ff423e8528ae",
   "metadata": {
    "tags": []
   },
   "outputs": [],
   "source": [
    "# df_res1"
   ]
  },
  {
   "cell_type": "code",
   "execution_count": 1099,
   "id": "612f2b74-5ca0-4151-9957-17785b85f95e",
   "metadata": {
    "tags": []
   },
   "outputs": [],
   "source": [
    "df_res2['Entity'] = ['Palestine'] * 3\n",
    "df_res3['Entity'] = ['Hamas'] * 3\n",
    "df_res4['Entity'] = ['Israel'] * 3\n",
    "df_res5['Entity'] = ['Other'] * 3"
   ]
  },
  {
   "cell_type": "code",
   "execution_count": 1100,
   "id": "a787803b-2095-47da-93eb-f84bcb187603",
   "metadata": {
    "tags": []
   },
   "outputs": [],
   "source": [
    "result = pd.concat((df_res2, df_res3, df_res4, df_res5), axis = 0)\n",
    "# .to_csv('ttest.csv')"
   ]
  },
  {
   "cell_type": "code",
   "execution_count": 1060,
   "id": "92547d8c-f6f2-4e8c-8543-4a85d55dd435",
   "metadata": {
    "tags": []
   },
   "outputs": [
    {
     "data": {
      "text/html": [
       "<div>\n",
       "<style scoped>\n",
       "    .dataframe tbody tr th:only-of-type {\n",
       "        vertical-align: middle;\n",
       "    }\n",
       "\n",
       "    .dataframe tbody tr th {\n",
       "        vertical-align: top;\n",
       "    }\n",
       "\n",
       "    .dataframe thead th {\n",
       "        text-align: right;\n",
       "    }\n",
       "</style>\n",
       "<table border=\"1\" class=\"dataframe\">\n",
       "  <thead>\n",
       "    <tr style=\"text-align: right;\">\n",
       "      <th></th>\n",
       "      <th>media</th>\n",
       "      <th>BC_pval</th>\n",
       "      <th>WC_pval</th>\n",
       "      <th>None_pval</th>\n",
       "      <th>BC_es</th>\n",
       "      <th>WC_es</th>\n",
       "      <th>None_es</th>\n",
       "      <th>Entity</th>\n",
       "    </tr>\n",
       "  </thead>\n",
       "  <tbody>\n",
       "    <tr>\n",
       "      <th>0</th>\n",
       "      <td>alj-bbc</td>\n",
       "      <td>3.960869e-02</td>\n",
       "      <td>3.960869e-02</td>\n",
       "      <td>7.057524e-01</td>\n",
       "      <td>0.117761</td>\n",
       "      <td>0.117761</td>\n",
       "      <td>-0.021623</td>\n",
       "      <td>Palestine</td>\n",
       "    </tr>\n",
       "    <tr>\n",
       "      <th>1</th>\n",
       "      <td>bbc-fox</td>\n",
       "      <td>1.157961e-13</td>\n",
       "      <td>1.157961e-13</td>\n",
       "      <td>2.123100e-02</td>\n",
       "      <td>-0.611236</td>\n",
       "      <td>-0.611236</td>\n",
       "      <td>0.189810</td>\n",
       "      <td>Palestine</td>\n",
       "    </tr>\n",
       "    <tr>\n",
       "      <th>2</th>\n",
       "      <td>alj-fox</td>\n",
       "      <td>5.967348e-15</td>\n",
       "      <td>5.967348e-15</td>\n",
       "      <td>2.774092e-02</td>\n",
       "      <td>-0.568286</td>\n",
       "      <td>-0.568286</td>\n",
       "      <td>0.160284</td>\n",
       "      <td>Palestine</td>\n",
       "    </tr>\n",
       "    <tr>\n",
       "      <th>0</th>\n",
       "      <td>alj-bbc</td>\n",
       "      <td>8.249367e-03</td>\n",
       "      <td>8.249367e-03</td>\n",
       "      <td>7.551573e-01</td>\n",
       "      <td>0.198717</td>\n",
       "      <td>0.198717</td>\n",
       "      <td>-0.023521</td>\n",
       "      <td>Hamas</td>\n",
       "    </tr>\n",
       "    <tr>\n",
       "      <th>1</th>\n",
       "      <td>bbc-fox</td>\n",
       "      <td>3.336094e-09</td>\n",
       "      <td>3.336094e-09</td>\n",
       "      <td>4.450435e-03</td>\n",
       "      <td>-0.370902</td>\n",
       "      <td>-0.370902</td>\n",
       "      <td>0.178396</td>\n",
       "      <td>Hamas</td>\n",
       "    </tr>\n",
       "    <tr>\n",
       "      <th>2</th>\n",
       "      <td>alj-fox</td>\n",
       "      <td>5.327380e-04</td>\n",
       "      <td>5.327380e-04</td>\n",
       "      <td>6.573208e-03</td>\n",
       "      <td>-0.221801</td>\n",
       "      <td>-0.221801</td>\n",
       "      <td>0.174037</td>\n",
       "      <td>Hamas</td>\n",
       "    </tr>\n",
       "    <tr>\n",
       "      <th>0</th>\n",
       "      <td>alj-bbc</td>\n",
       "      <td>1.598863e-04</td>\n",
       "      <td>1.598863e-04</td>\n",
       "      <td>1.110850e-02</td>\n",
       "      <td>-0.108658</td>\n",
       "      <td>-0.108658</td>\n",
       "      <td>0.073086</td>\n",
       "      <td>Israel</td>\n",
       "    </tr>\n",
       "    <tr>\n",
       "      <th>1</th>\n",
       "      <td>bbc-fox</td>\n",
       "      <td>4.022444e-33</td>\n",
       "      <td>4.022444e-33</td>\n",
       "      <td>7.461585e-10</td>\n",
       "      <td>-0.373741</td>\n",
       "      <td>-0.373741</td>\n",
       "      <td>0.191894</td>\n",
       "      <td>Israel</td>\n",
       "    </tr>\n",
       "    <tr>\n",
       "      <th>2</th>\n",
       "      <td>alj-fox</td>\n",
       "      <td>4.483791e-72</td>\n",
       "      <td>4.483791e-72</td>\n",
       "      <td>1.516718e-28</td>\n",
       "      <td>-0.459061</td>\n",
       "      <td>-0.459061</td>\n",
       "      <td>0.283383</td>\n",
       "      <td>Israel</td>\n",
       "    </tr>\n",
       "    <tr>\n",
       "      <th>0</th>\n",
       "      <td>alj-bbc</td>\n",
       "      <td>4.069432e-04</td>\n",
       "      <td>4.069432e-04</td>\n",
       "      <td>1.049973e-02</td>\n",
       "      <td>0.116746</td>\n",
       "      <td>0.116746</td>\n",
       "      <td>-0.084498</td>\n",
       "      <td>Other</td>\n",
       "    </tr>\n",
       "    <tr>\n",
       "      <th>1</th>\n",
       "      <td>bbc-fox</td>\n",
       "      <td>1.692922e-16</td>\n",
       "      <td>1.692922e-16</td>\n",
       "      <td>1.131166e-03</td>\n",
       "      <td>-0.380192</td>\n",
       "      <td>-0.380192</td>\n",
       "      <td>0.150185</td>\n",
       "      <td>Other</td>\n",
       "    </tr>\n",
       "    <tr>\n",
       "      <th>2</th>\n",
       "      <td>alj-fox</td>\n",
       "      <td>4.090841e-11</td>\n",
       "      <td>4.090841e-11</td>\n",
       "      <td>9.380416e-02</td>\n",
       "      <td>-0.298058</td>\n",
       "      <td>-0.298058</td>\n",
       "      <td>0.075670</td>\n",
       "      <td>Other</td>\n",
       "    </tr>\n",
       "  </tbody>\n",
       "</table>\n",
       "</div>"
      ],
      "text/plain": [
       "     media       BC_pval       WC_pval     None_pval     BC_es     WC_es  \\\n",
       "0  alj-bbc  3.960869e-02  3.960869e-02  7.057524e-01  0.117761  0.117761   \n",
       "1  bbc-fox  1.157961e-13  1.157961e-13  2.123100e-02 -0.611236 -0.611236   \n",
       "2  alj-fox  5.967348e-15  5.967348e-15  2.774092e-02 -0.568286 -0.568286   \n",
       "0  alj-bbc  8.249367e-03  8.249367e-03  7.551573e-01  0.198717  0.198717   \n",
       "1  bbc-fox  3.336094e-09  3.336094e-09  4.450435e-03 -0.370902 -0.370902   \n",
       "2  alj-fox  5.327380e-04  5.327380e-04  6.573208e-03 -0.221801 -0.221801   \n",
       "0  alj-bbc  1.598863e-04  1.598863e-04  1.110850e-02 -0.108658 -0.108658   \n",
       "1  bbc-fox  4.022444e-33  4.022444e-33  7.461585e-10 -0.373741 -0.373741   \n",
       "2  alj-fox  4.483791e-72  4.483791e-72  1.516718e-28 -0.459061 -0.459061   \n",
       "0  alj-bbc  4.069432e-04  4.069432e-04  1.049973e-02  0.116746  0.116746   \n",
       "1  bbc-fox  1.692922e-16  1.692922e-16  1.131166e-03 -0.380192 -0.380192   \n",
       "2  alj-fox  4.090841e-11  4.090841e-11  9.380416e-02 -0.298058 -0.298058   \n",
       "\n",
       "    None_es     Entity  \n",
       "0 -0.021623  Palestine  \n",
       "1  0.189810  Palestine  \n",
       "2  0.160284  Palestine  \n",
       "0 -0.023521      Hamas  \n",
       "1  0.178396      Hamas  \n",
       "2  0.174037      Hamas  \n",
       "0  0.073086     Israel  \n",
       "1  0.191894     Israel  \n",
       "2  0.283383     Israel  \n",
       "0 -0.084498      Other  \n",
       "1  0.150185      Other  \n",
       "2  0.075670      Other  "
      ]
     },
     "execution_count": 1060,
     "metadata": {},
     "output_type": "execute_result"
    }
   ],
   "source": [
    "result['BC_es'] = result['BC_es'] * -1\n",
    "result"
   ]
  },
  {
   "cell_type": "code",
   "execution_count": 1061,
   "id": "8552641d-c461-40b9-820f-cf51da90d879",
   "metadata": {
    "tags": []
   },
   "outputs": [],
   "source": [
    "result[['media', 'BC_pval', 'BC_es', 'Entity']].to_csv(f'results/statistical_test/Label_{label}.csv')\n",
    "# result[['media', 'PS_pval', 'PS_es', 'Entity']].to_csv(f'results/statistical_test/Label_{label}.csv')\n",
    "# result[['media', 'IE_pval', 'IE_es', 'Entity']].to_csv(f'results/statistical_test/Label_{label}.csv')\n",
    "# result[['media', 'O_pval', 'O_es', 'Entity']].to_csv(f'results/statistical_test/Label_{label}.csv')"
   ]
  },
  {
   "cell_type": "code",
   "execution_count": 1101,
   "id": "7bdf87f0-d9de-4aa5-b8aa-355ee9b3b98a",
   "metadata": {
    "tags": []
   },
   "outputs": [
    {
     "data": {
      "text/html": [
       "<div>\n",
       "<style scoped>\n",
       "    .dataframe tbody tr th:only-of-type {\n",
       "        vertical-align: middle;\n",
       "    }\n",
       "\n",
       "    .dataframe tbody tr th {\n",
       "        vertical-align: top;\n",
       "    }\n",
       "\n",
       "    .dataframe thead th {\n",
       "        text-align: right;\n",
       "    }\n",
       "</style>\n",
       "<table border=\"1\" class=\"dataframe\">\n",
       "  <thead>\n",
       "    <tr style=\"text-align: right;\">\n",
       "      <th></th>\n",
       "      <th>media</th>\n",
       "      <th>pval</th>\n",
       "      <th>es</th>\n",
       "      <th>Entity</th>\n",
       "    </tr>\n",
       "  </thead>\n",
       "  <tbody>\n",
       "    <tr>\n",
       "      <th>0</th>\n",
       "      <td>alj-bbc</td>\n",
       "      <td>1.296099e-01</td>\n",
       "      <td>-0.086740</td>\n",
       "      <td>Palestine</td>\n",
       "    </tr>\n",
       "    <tr>\n",
       "      <th>1</th>\n",
       "      <td>bbc-fox</td>\n",
       "      <td>3.178975e-08</td>\n",
       "      <td>-0.455580</td>\n",
       "      <td>Palestine</td>\n",
       "    </tr>\n",
       "    <tr>\n",
       "      <th>2</th>\n",
       "      <td>alj-fox</td>\n",
       "      <td>1.688024e-14</td>\n",
       "      <td>-0.558658</td>\n",
       "      <td>Palestine</td>\n",
       "    </tr>\n",
       "    <tr>\n",
       "      <th>0</th>\n",
       "      <td>alj-bbc</td>\n",
       "      <td>4.275682e-01</td>\n",
       "      <td>0.059729</td>\n",
       "      <td>Hamas</td>\n",
       "    </tr>\n",
       "    <tr>\n",
       "      <th>1</th>\n",
       "      <td>bbc-fox</td>\n",
       "      <td>8.165306e-01</td>\n",
       "      <td>-0.014578</td>\n",
       "      <td>Hamas</td>\n",
       "    </tr>\n",
       "    <tr>\n",
       "      <th>2</th>\n",
       "      <td>alj-fox</td>\n",
       "      <td>5.261080e-01</td>\n",
       "      <td>0.040621</td>\n",
       "      <td>Hamas</td>\n",
       "    </tr>\n",
       "    <tr>\n",
       "      <th>0</th>\n",
       "      <td>alj-bbc</td>\n",
       "      <td>1.427233e-19</td>\n",
       "      <td>0.260482</td>\n",
       "      <td>Israel</td>\n",
       "    </tr>\n",
       "    <tr>\n",
       "      <th>1</th>\n",
       "      <td>bbc-fox</td>\n",
       "      <td>3.188287e-17</td>\n",
       "      <td>0.263073</td>\n",
       "      <td>Israel</td>\n",
       "    </tr>\n",
       "    <tr>\n",
       "      <th>2</th>\n",
       "      <td>alj-fox</td>\n",
       "      <td>1.235049e-94</td>\n",
       "      <td>0.527711</td>\n",
       "      <td>Israel</td>\n",
       "    </tr>\n",
       "    <tr>\n",
       "      <th>0</th>\n",
       "      <td>alj-bbc</td>\n",
       "      <td>8.886302e-04</td>\n",
       "      <td>0.109748</td>\n",
       "      <td>Other</td>\n",
       "    </tr>\n",
       "    <tr>\n",
       "      <th>1</th>\n",
       "      <td>bbc-fox</td>\n",
       "      <td>8.905174e-03</td>\n",
       "      <td>0.120662</td>\n",
       "      <td>Other</td>\n",
       "    </tr>\n",
       "    <tr>\n",
       "      <th>2</th>\n",
       "      <td>alj-fox</td>\n",
       "      <td>4.358536e-08</td>\n",
       "      <td>0.247256</td>\n",
       "      <td>Other</td>\n",
       "    </tr>\n",
       "  </tbody>\n",
       "</table>\n",
       "</div>"
      ],
      "text/plain": [
       "     media          pval        es     Entity\n",
       "0  alj-bbc  1.296099e-01 -0.086740  Palestine\n",
       "1  bbc-fox  3.178975e-08 -0.455580  Palestine\n",
       "2  alj-fox  1.688024e-14 -0.558658  Palestine\n",
       "0  alj-bbc  4.275682e-01  0.059729      Hamas\n",
       "1  bbc-fox  8.165306e-01 -0.014578      Hamas\n",
       "2  alj-fox  5.261080e-01  0.040621      Hamas\n",
       "0  alj-bbc  1.427233e-19  0.260482     Israel\n",
       "1  bbc-fox  3.188287e-17  0.263073     Israel\n",
       "2  alj-fox  1.235049e-94  0.527711     Israel\n",
       "0  alj-bbc  8.886302e-04  0.109748      Other\n",
       "1  bbc-fox  8.905174e-03  0.120662      Other\n",
       "2  alj-fox  4.358536e-08  0.247256      Other"
      ]
     },
     "execution_count": 1101,
     "metadata": {},
     "output_type": "execute_result"
    }
   ],
   "source": [
    "res1 = result[result.Entity == 'Hamas'][['media', 'Hamas_pval', 'Hamas_es', 'Entity']].rename(columns = {'Hamas_pval': 'pval', 'Hamas_es': 'es'})\n",
    "res2 = result[result.Entity == 'Palestine'][['media', 'Palestine_pval', 'Palestine_es', 'Entity']].rename(columns = {'Palestine_pval': 'pval', 'Palestine_es': 'es'})\n",
    "res3 = result[result.Entity == 'Israel'][['media', 'Israel_pval', 'Israel_es', 'Entity']].rename(columns = {'Israel_pval': 'pval', 'Israel_es': 'es'})\n",
    "res4 = result[result.Entity == 'Other'][['media', 'None_pval', 'None_es', 'Entity']].rename(columns = {'None_pval': 'pval', 'None_es': 'es'})\n",
    "\n",
    "res = pd.concat((res2, res1, res3, res4), axis = 0)\n",
    "res"
   ]
  },
  {
   "cell_type": "code",
   "execution_count": 1102,
   "id": "133b8363-c6bc-45ac-bc28-28c973c92274",
   "metadata": {},
   "outputs": [],
   "source": [
    "res['es'] = res['es'] * -1"
   ]
  },
  {
   "cell_type": "code",
   "execution_count": 1103,
   "id": "3282fce0-4079-4e0b-a2a5-0bdcd224dff7",
   "metadata": {},
   "outputs": [],
   "source": [
    "res.to_csv(f'results/statistical_test/Label_{label}.csv')"
   ]
  },
  {
   "cell_type": "code",
   "execution_count": null,
   "id": "baaeddb7-744c-4043-a717-6490f66c8d72",
   "metadata": {},
   "outputs": [],
   "source": []
  },
  {
   "cell_type": "code",
   "execution_count": 1104,
   "id": "82dfabac-c6a3-471a-b94b-6a8fa998145d",
   "metadata": {
    "tags": []
   },
   "outputs": [],
   "source": [
    "df1 = pd.read_csv('results/statistical_test/Label_emotive.csv')\n",
    "df2 = pd.read_csv('results/statistical_test/Label_effects.csv')\n",
    "df3 = pd.read_csv('results/statistical_test/Label_source.csv')\n",
    "df4 = pd.read_csv('results/statistical_test/Label_context.csv')\n",
    "df5 = pd.read_csv('results/statistical_test/Label_villain.csv').rename(columns = {'pval': 'villain_pval', 'es': 'villain_es'})\n",
    "df6 = pd.read_csv('results/statistical_test/Label_victim.csv').rename(columns = {'pval': 'victim_pval', 'es': 'victim_es'})"
   ]
  },
  {
   "cell_type": "code",
   "execution_count": 1105,
   "id": "431e4008-6d22-44b6-a100-8bf0022d9680",
   "metadata": {
    "tags": []
   },
   "outputs": [],
   "source": [
    "df = pd.concat((df1, df2, df3, df4, df5, df6), axis = 1)"
   ]
  },
  {
   "cell_type": "code",
   "execution_count": 1106,
   "id": "e4eb7292-161d-418c-b9d9-ab9c1a299690",
   "metadata": {
    "tags": []
   },
   "outputs": [],
   "source": [
    "df.to_csv('results/statistical_test/statistical_test.csv')"
   ]
  },
  {
   "cell_type": "code",
   "execution_count": null,
   "id": "6c664b49-bccf-4ae8-b8e9-65034dcf771c",
   "metadata": {},
   "outputs": [],
   "source": []
  }
 ],
 "metadata": {
  "kernelspec": {
   "display_name": "py3_10",
   "language": "python",
   "name": "py3_10"
  },
  "language_info": {
   "codemirror_mode": {
    "name": "ipython",
    "version": 3
   },
   "file_extension": ".py",
   "mimetype": "text/x-python",
   "name": "python",
   "nbconvert_exporter": "python",
   "pygments_lexer": "ipython3",
   "version": "3.10.12"
  }
 },
 "nbformat": 4,
 "nbformat_minor": 5
}
